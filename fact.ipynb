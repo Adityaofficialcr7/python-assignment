{
 "cells": [
  {
   "cell_type": "code",
   "execution_count": 3,
   "id": "94110ada",
   "metadata": {},
   "outputs": [
    {
     "name": "stdout",
     "output_type": "stream",
     "text": [
      "enter the value of a6\n",
      "enter the value of b10\n",
      "failure\n"
     ]
    }
   ],
   "source": [
    "a= int(input(\"enter the value of a\"))\n",
    "b= int(input(\"enter the value of b\"))\n",
    "if a==5 and b==10 :\n",
    "    print (\"success\")\n",
    "else:\n",
    "    print(\"failure\")\n",
    "    "
   ]
  },
  {
   "cell_type": "code",
   "execution_count": 10,
   "id": "f3ad8806",
   "metadata": {},
   "outputs": [
    {
     "name": "stdout",
     "output_type": "stream",
     "text": [
      "enter yout first nameaditya\n",
      "enter your last nameSingh\n",
      "the person is different\n",
      "the person is an asshole\n"
     ]
    }
   ],
   "source": [
    "firstname= input(\"enter yout first name\")\n",
    "lastname= input(\"enter your last name\")\n",
    "if firstname==\"aditya\"and lastname==\"Vijay\":\n",
    "    print(\"the person is authentic\")\n",
    "else :\n",
    "    print (\"the person is different\")\n",
    "if firstname==\"Aditya\" or lastname==\"Singh\":\n",
    "    print(\"the person is an asshole\")\n",
    "    "
   ]
  },
  {
   "cell_type": "code",
   "execution_count": 13,
   "id": "f068fa26",
   "metadata": {},
   "outputs": [
    {
     "name": "stdout",
     "output_type": "stream",
     "text": [
      "speed is okay\n",
      "speed is okay\n",
      "speed is okay\n",
      "speed is okay\n",
      "speed is okay\n",
      "speed is okay\n",
      "speed is okay\n",
      "speed is okay\n"
     ]
    }
   ],
   "source": [
    "initial_speed = 20\n",
    "final_speed = 100\n",
    "while (initial_speed < final_speed):\n",
    "    print(\"speed is okay\")\n",
    "    initial_speed +=10\n",
    "    \n",
    "    "
   ]
  },
  {
   "cell_type": "code",
   "execution_count": 14,
   "id": "7fee9fa3",
   "metadata": {},
   "outputs": [
    {
     "name": "stdout",
     "output_type": "stream",
     "text": [
      "enter the value of a20\n"
     ]
    }
   ],
   "source": [
    "a=input(\"enter the value of a\")\n"
   ]
  },
  {
   "cell_type": "code",
   "execution_count": 15,
   "id": "eea473e9",
   "metadata": {},
   "outputs": [
    {
     "data": {
      "text/plain": [
       "str"
      ]
     },
     "execution_count": 15,
     "metadata": {},
     "output_type": "execute_result"
    }
   ],
   "source": [
    "type(a)"
   ]
  },
  {
   "cell_type": "code",
   "execution_count": 16,
   "id": "1fc81cd2",
   "metadata": {},
   "outputs": [
    {
     "data": {
      "text/plain": [
       "int"
      ]
     },
     "execution_count": 16,
     "metadata": {},
     "output_type": "execute_result"
    }
   ],
   "source": [
    "a=5\n",
    "type(a)"
   ]
  },
  {
   "cell_type": "code",
   "execution_count": 6,
   "id": "185934d8",
   "metadata": {},
   "outputs": [
    {
     "name": "stdout",
     "output_type": "stream",
     "text": [
      "enter the value of n6\n",
      "720\n"
     ]
    }
   ],
   "source": [
    "\n",
    "i= 1\n",
    "fact= 1\n",
    "n= int(input(\"enter the value of n\"))\n",
    "while (i<=n):\n",
    "    fact=fact*i\n",
    "    i=i+1\n",
    "print(fact)\n",
    "    \n"
   ]
  },
  {
   "cell_type": "code",
   "execution_count": 1,
   "id": "95b4945b",
   "metadata": {},
   "outputs": [
    {
     "name": "stdout",
     "output_type": "stream",
     "text": [
      "5\n"
     ]
    }
   ],
   "source": [
    "a =5\n",
    "print(a)"
   ]
  },
  {
   "cell_type": "code",
   "execution_count": null,
   "id": "325214e2",
   "metadata": {},
   "outputs": [],
   "source": []
  },
  {
   "cell_type": "code",
   "execution_count": null,
   "id": "20e3e591",
   "metadata": {},
   "outputs": [],
   "source": []
  }
 ],
 "metadata": {
  "kernelspec": {
   "display_name": "Python 3 (ipykernel)",
   "language": "python",
   "name": "python3"
  },
  "language_info": {
   "codemirror_mode": {
    "name": "ipython",
    "version": 3
   },
   "file_extension": ".py",
   "mimetype": "text/x-python",
   "name": "python",
   "nbconvert_exporter": "python",
   "pygments_lexer": "ipython3",
   "version": "3.9.7"
  }
 },
 "nbformat": 4,
 "nbformat_minor": 5
}
