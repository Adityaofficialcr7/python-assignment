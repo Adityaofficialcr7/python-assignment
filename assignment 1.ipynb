{
 "cells": [
  {
   "cell_type": "code",
   "execution_count": 1,
   "id": "41208687",
   "metadata": {},
   "outputs": [
    {
     "name": "stdout",
     "output_type": "stream",
     "text": [
      "enter the lenghthog the triangle12\n",
      "enter the breadth of the triangle16\n",
      "96.0\n"
     ]
    }
   ],
   "source": [
    "#WAP to find the area of a triangle.\n",
    "\n",
    "l= int(input(\"enter the lenghthog the triangle\"))\n",
    "b= int(input(\"enter the breadth of the triangle\"))\n",
    "Area= 1/2 *l*b\n",
    "print(Area)"
   ]
  },
  {
   "cell_type": "code",
   "execution_count": 5,
   "id": "b00b11fb",
   "metadata": {},
   "outputs": [
    {
     "name": "stdout",
     "output_type": "stream",
     "text": [
      "enter the value of a15\n",
      "enter the value of b12\n",
      "12\n",
      "15\n"
     ]
    }
   ],
   "source": [
    "#WAP to swap two variables\n",
    "a = int(input(\"enter the value of a\"))\n",
    "b =int(input(\"enter the value of b\"))\n",
    "a = a + b \n",
    "b= a - b \n",
    "a= a - b\n",
    "print(a)\n",
    "print(b)"
   ]
  },
  {
   "cell_type": "code",
   "execution_count": null,
   "id": "ed232b78",
   "metadata": {},
   "outputs": [],
   "source": []
  }
 ],
 "metadata": {
  "kernelspec": {
   "display_name": "Python 3 (ipykernel)",
   "language": "python",
   "name": "python3"
  },
  "language_info": {
   "codemirror_mode": {
    "name": "ipython",
    "version": 3
   },
   "file_extension": ".py",
   "mimetype": "text/x-python",
   "name": "python",
   "nbconvert_exporter": "python",
   "pygments_lexer": "ipython3",
   "version": "3.9.7"
  }
 },
 "nbformat": 4,
 "nbformat_minor": 5
}
