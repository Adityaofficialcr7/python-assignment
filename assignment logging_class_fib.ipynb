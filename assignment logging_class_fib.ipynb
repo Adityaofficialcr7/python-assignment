{
 "cells": [
  {
   "cell_type": "code",
   "execution_count": 5,
   "id": "ad3d4be1",
   "metadata": {},
   "outputs": [
    {
     "data": {
      "text/plain": [
       "23"
      ]
     },
     "execution_count": 5,
     "metadata": {},
     "output_type": "execute_result"
    }
   ],
   "source": [
    "import os \n",
    "import logging as lgg\n",
    "lgg.basicConfig(filename=\"func1.log\", level=lgg.INFO, format=\"%(asctime)s %(levelname)s %(message)s\")\n",
    "def func(*args):\n",
    "    lgg.info(\"the inputs are %s\" %str(args))\n",
    "    return sum(args)\n",
    "\n",
    "lgg.info(\"please enter the values while calling the function\")\n",
    "func(4,5,6,8)"
   ]
  },
  {
   "cell_type": "code",
   "execution_count": null,
   "id": "7769ae07",
   "metadata": {},
   "outputs": [],
   "source": [
    "lgg.basicConfig(filename=\"func1.log\", level=lgg.debug, format=\"%(asctime)s %(levelname)s %(message)s\")"
   ]
  },
  {
   "cell_type": "code",
   "execution_count": 30,
   "id": "e6a428d0",
   "metadata": {},
   "outputs": [
    {
     "name": "stdout",
     "output_type": "stream",
     "text": [
      "enter the values5 5 5 5 \n"
     ]
    },
    {
     "data": {
      "text/plain": [
       "['5', '5', '5', '5']"
      ]
     },
     "execution_count": 30,
     "metadata": {},
     "output_type": "execute_result"
    }
   ],
   "source": [
    "import os \n",
    "import logging as lgg\n",
    "lgg.basicConfig(filename=\"func1.log\", level=lgg.INFO, format=\"%(asctime)s %(levelname)s %(message)s\")\n",
    "def func(m):\n",
    "    lgg.info(\"the inputs are %s\" %str(m))\n",
    "    \n",
    "    return m \n",
    "\n",
    "lgg.info(\"please enter the values while calling the function\")\n",
    "\n",
    "l=input(\"enter the values\")\n",
    "func(l.split())\n"
   ]
  },
  {
   "cell_type": "code",
   "execution_count": 32,
   "id": "ef50b253",
   "metadata": {},
   "outputs": [
    {
     "ename": "SyntaxError",
     "evalue": "invalid syntax (Temp/ipykernel_19748/3349615149.py, line 1)",
     "output_type": "error",
     "traceback": [
      "\u001b[1;36m  File \u001b[1;32m\"C:\\Users\\adity\\AppData\\Local\\Temp/ipykernel_19748/3349615149.py\"\u001b[1;36m, line \u001b[1;32m1\u001b[0m\n\u001b[1;33m    l1=[5 4 5 5 6 5]\u001b[0m\n\u001b[1;37m          ^\u001b[0m\n\u001b[1;31mSyntaxError\u001b[0m\u001b[1;31m:\u001b[0m invalid syntax\n"
     ]
    }
   ],
   "source": [
    "l1=\n",
    "m=l1.split()\n",
    "m"
   ]
  },
  {
   "cell_type": "code",
   "execution_count": 2,
   "id": "f9294b58",
   "metadata": {},
   "outputs": [
    {
     "name": "stdout",
     "output_type": "stream",
     "text": [
      "Collecting ipdb\n",
      "  Downloading ipdb-0.13.9.tar.gz (16 kB)\n",
      "Requirement already satisfied: setuptools in c:\\users\\adity\\anaconda3\\lib\\site-packages (from ipdb) (58.0.4)\n",
      "Requirement already satisfied: ipython>=7.17.0 in c:\\users\\adity\\anaconda3\\lib\\site-packages (from ipdb) (7.29.0)\n",
      "Requirement already satisfied: toml>=0.10.2 in c:\\users\\adity\\anaconda3\\lib\\site-packages (from ipdb) (0.10.2)\n",
      "Requirement already satisfied: decorator in c:\\users\\adity\\anaconda3\\lib\\site-packages (from ipdb) (5.1.0)\n",
      "Requirement already satisfied: traitlets>=4.2 in c:\\users\\adity\\anaconda3\\lib\\site-packages (from ipython>=7.17.0->ipdb) (5.1.0)\n",
      "Requirement already satisfied: matplotlib-inline in c:\\users\\adity\\anaconda3\\lib\\site-packages (from ipython>=7.17.0->ipdb) (0.1.2)\n",
      "Requirement already satisfied: jedi>=0.16 in c:\\users\\adity\\anaconda3\\lib\\site-packages (from ipython>=7.17.0->ipdb) (0.18.0)\n",
      "Requirement already satisfied: backcall in c:\\users\\adity\\anaconda3\\lib\\site-packages (from ipython>=7.17.0->ipdb) (0.2.0)\n",
      "Requirement already satisfied: colorama in c:\\users\\adity\\anaconda3\\lib\\site-packages (from ipython>=7.17.0->ipdb) (0.4.4)\n",
      "Requirement already satisfied: pickleshare in c:\\users\\adity\\anaconda3\\lib\\site-packages (from ipython>=7.17.0->ipdb) (0.7.5)\n",
      "Requirement already satisfied: pygments in c:\\users\\adity\\anaconda3\\lib\\site-packages (from ipython>=7.17.0->ipdb) (2.10.0)\n",
      "Requirement already satisfied: prompt-toolkit!=3.0.0,!=3.0.1,<3.1.0,>=2.0.0 in c:\\users\\adity\\anaconda3\\lib\\site-packages (from ipython>=7.17.0->ipdb) (3.0.20)\n",
      "Requirement already satisfied: parso<0.9.0,>=0.8.0 in c:\\users\\adity\\anaconda3\\lib\\site-packages (from jedi>=0.16->ipython>=7.17.0->ipdb) (0.8.2)\n",
      "Requirement already satisfied: wcwidth in c:\\users\\adity\\anaconda3\\lib\\site-packages (from prompt-toolkit!=3.0.0,!=3.0.1,<3.1.0,>=2.0.0->ipython>=7.17.0->ipdb) (0.2.5)\n",
      "Building wheels for collected packages: ipdb\n",
      "  Building wheel for ipdb (setup.py): started\n",
      "  Building wheel for ipdb (setup.py): finished with status 'done'\n",
      "  Created wheel for ipdb: filename=ipdb-0.13.9-py3-none-any.whl size=11648 sha256=7e05224773b17e3d3acf1748d500517da1faa54c4c7a749a6b1b05a8765b9e6a\n",
      "  Stored in directory: c:\\users\\adity\\appdata\\local\\pip\\cache\\wheels\\f7\\29\\9a\\cf774cd86e9802f075a0be1c9e0830bc062d07897b2e9e87cd\n",
      "Successfully built ipdb\n",
      "Installing collected packages: ipdb\n",
      "Successfully installed ipdb-0.13.9\n"
     ]
    }
   ],
   "source": [
    "!pip install ipdb\n"
   ]
  },
  {
   "cell_type": "code",
   "execution_count": 27,
   "id": "27988f05",
   "metadata": {},
   "outputs": [],
   "source": [
    "import ipdb"
   ]
  },
  {
   "cell_type": "code",
   "execution_count": 28,
   "id": "a3463eb6",
   "metadata": {},
   "outputs": [],
   "source": [
    "def testdebug():\n",
    "    l1=[]\n",
    "    ipdb.set_trace()\n",
    "    for i in range(10):\n",
    "        l1.append(i)\n",
    "        print(\"we ahave appended the list\")\n",
    "        \n",
    "    return l1   "
   ]
  },
  {
   "cell_type": "code",
   "execution_count": null,
   "id": "6f8a1c52",
   "metadata": {},
   "outputs": [
    {
     "name": "stdout",
     "output_type": "stream",
     "text": [
      "> \u001b[1;32mc:\\users\\adity\\appdata\\local\\temp\\ipykernel_14480\\2874330714.py\u001b[0m(4)\u001b[0;36mtestdebug\u001b[1;34m()\u001b[0m\n",
      "\n",
      "ipdb> n\n",
      "> \u001b[1;32mc:\\users\\adity\\appdata\\local\\temp\\ipykernel_14480\\2874330714.py\u001b[0m(5)\u001b[0;36mtestdebug\u001b[1;34m()\u001b[0m\n",
      "\n",
      "ipdb> n\n",
      "> \u001b[1;32mc:\\users\\adity\\appdata\\local\\temp\\ipykernel_14480\\2874330714.py\u001b[0m(6)\u001b[0;36mtestdebug\u001b[1;34m()\u001b[0m\n",
      "\n",
      "ipdb> n\n",
      "we ahave appended the list\n",
      "> \u001b[1;32mc:\\users\\adity\\appdata\\local\\temp\\ipykernel_14480\\2874330714.py\u001b[0m(4)\u001b[0;36mtestdebug\u001b[1;34m()\u001b[0m\n",
      "\n",
      "ipdb> n\n",
      "> \u001b[1;32mc:\\users\\adity\\appdata\\local\\temp\\ipykernel_14480\\2874330714.py\u001b[0m(5)\u001b[0;36mtestdebug\u001b[1;34m()\u001b[0m\n",
      "\n",
      "ipdb> i\n",
      "1\n"
     ]
    }
   ],
   "source": [
    "testdebug()"
   ]
  },
  {
   "cell_type": "code",
   "execution_count": null,
   "id": "94cbddd5",
   "metadata": {},
   "outputs": [],
   "source": [
    "import ipdb"
   ]
  },
  {
   "cell_type": "code",
   "execution_count": 1,
   "id": "8eff3447",
   "metadata": {},
   "outputs": [],
   "source": [
    "class car:\n",
    "    pass\n"
   ]
  },
  {
   "cell_type": "code",
   "execution_count": 2,
   "id": "d9174dc3",
   "metadata": {},
   "outputs": [],
   "source": [
    "audiq7=car()\n"
   ]
  },
  {
   "cell_type": "code",
   "execution_count": 5,
   "id": "31058173",
   "metadata": {},
   "outputs": [],
   "source": [
    "audiq7.milege = 35\n",
    "audiq7.year = 1993\n",
    "audiq7.mode = \"speed\""
   ]
  },
  {
   "cell_type": "code",
   "execution_count": 8,
   "id": "635daff5",
   "metadata": {},
   "outputs": [
    {
     "ename": "AttributeError",
     "evalue": "type object 'car' has no attribute 'milege'",
     "output_type": "error",
     "traceback": [
      "\u001b[1;31m---------------------------------------------------------------------------\u001b[0m",
      "\u001b[1;31mAttributeError\u001b[0m                            Traceback (most recent call last)",
      "\u001b[1;32m~\\AppData\\Local\\Temp/ipykernel_14480/350436081.py\u001b[0m in \u001b[0;36m<module>\u001b[1;34m\u001b[0m\n\u001b[0;32m      1\u001b[0m \u001b[0maudiq7\u001b[0m\u001b[1;33m.\u001b[0m\u001b[0myear\u001b[0m\u001b[1;33m\u001b[0m\u001b[1;33m\u001b[0m\u001b[0m\n\u001b[1;32m----> 2\u001b[1;33m \u001b[0mcar\u001b[0m\u001b[1;33m.\u001b[0m\u001b[0mmilege\u001b[0m\u001b[1;33m\u001b[0m\u001b[1;33m\u001b[0m\u001b[0m\n\u001b[0m",
      "\u001b[1;31mAttributeError\u001b[0m: type object 'car' has no attribute 'milege'"
     ]
    }
   ],
   "source": [
    "audiq7.year\n",
    "car.milege"
   ]
  },
  {
   "cell_type": "code",
   "execution_count": 50,
   "id": "f5746170",
   "metadata": {},
   "outputs": [],
   "source": [
    "class car:\n",
    "    def __init__(self,m,year,mode):\n",
    "        self.milege=m\n",
    "        self.year=year\n",
    "        self.mode=mode\n",
    "    def abcd(self):\n",
    "        self.name=\"nim\"\n",
    "        print(self.name)"
   ]
  },
  {
   "cell_type": "code",
   "execution_count": 51,
   "id": "da2ad771",
   "metadata": {},
   "outputs": [],
   "source": [
    "nano1= car(40,2012,\"sports\")\n",
    "audiq7=(20,2016,\"asd\")\n"
   ]
  },
  {
   "cell_type": "code",
   "execution_count": 3,
   "id": "170e8ec2",
   "metadata": {},
   "outputs": [],
   "source": [
    "audiq7=(20,2016,\"asd\")"
   ]
  },
  {
   "cell_type": "code",
   "execution_count": 4,
   "id": "922d74b1",
   "metadata": {},
   "outputs": [],
   "source": [
    "nano1=(40,2012,\"sports\")\n"
   ]
  },
  {
   "cell_type": "code",
   "execution_count": 53,
   "id": "5f6f8f83",
   "metadata": {},
   "outputs": [
    {
     "name": "stdout",
     "output_type": "stream",
     "text": [
      "nim\n"
     ]
    }
   ],
   "source": [
    "nano1.abcd()"
   ]
  },
  {
   "cell_type": "code",
   "execution_count": 54,
   "id": "f4c99ea7",
   "metadata": {},
   "outputs": [
    {
     "data": {
      "text/plain": [
       "'nim'"
      ]
     },
     "execution_count": 54,
     "metadata": {},
     "output_type": "execute_result"
    }
   ],
   "source": [
    "nano1.name"
   ]
  },
  {
   "cell_type": "code",
   "execution_count": 10,
   "id": "11d9ad81",
   "metadata": {},
   "outputs": [
    {
     "ename": "AttributeError",
     "evalue": "type object 'car' has no attribute 'self'",
     "output_type": "error",
     "traceback": [
      "\u001b[1;31m---------------------------------------------------------------------------\u001b[0m",
      "\u001b[1;31mAttributeError\u001b[0m                            Traceback (most recent call last)",
      "\u001b[1;32m~\\AppData\\Local\\Temp/ipykernel_25772/3417237922.py\u001b[0m in \u001b[0;36m<module>\u001b[1;34m\u001b[0m\n\u001b[1;32m----> 1\u001b[1;33m \u001b[0mcar\u001b[0m\u001b[1;33m.\u001b[0m\u001b[0mself\u001b[0m\u001b[1;33m.\u001b[0m\u001b[0mmilege\u001b[0m\u001b[1;33m\u001b[0m\u001b[1;33m\u001b[0m\u001b[0m\n\u001b[0m",
      "\u001b[1;31mAttributeError\u001b[0m: type object 'car' has no attribute 'self'"
     ]
    }
   ],
   "source": [
    "car.self.milege"
   ]
  },
  {
   "cell_type": "code",
   "execution_count": 28,
   "id": "dd6e993d",
   "metadata": {},
   "outputs": [],
   "source": [
    "class student:\n",
    "    def __init__(self,name, rollno, joining_date, current_topic):\n",
    "        self.name= name\n",
    "        self.rollno =rollno\n",
    "        self.joining_date= joining_date\n",
    "        self.current_topic=current_topic\n",
    "        \n",
    "    def crt_topic(self):\n",
    "        print(\"current topic discussed in my class is\",self.current_topic,self.rollno)\n",
    "        \n",
    "    def str_rollno(self):\n",
    "        if type(self.rollno)==str:\n",
    "            print(\"do nothing\")\n",
    "        else: return str(self.rollno)\n",
    "        \n",
    "        \n",
    "    def duration(self,current_date):\n",
    "        self.current_date= current_date\n",
    "        print(\"duration of my class is \", self.current_date - self.joining_date, self.current_date)\n",
    "        \n",
    "    def __str__(self):\n",
    "        return\"tis is a trial function\""
   ]
  },
  {
   "cell_type": "code",
   "execution_count": 30,
   "id": "f4e0ce88",
   "metadata": {},
   "outputs": [
    {
     "name": "stdout",
     "output_type": "stream",
     "text": [
      "current topic discussed in my class is oops 24\n"
     ]
    }
   ],
   "source": [
    "shweta=student(\"shweta\",24,2021,\"oops\")\n",
    "shweta.crt_topic()"
   ]
  },
  {
   "cell_type": "code",
   "execution_count": 9,
   "id": "a48bdd70",
   "metadata": {},
   "outputs": [
    {
     "name": "stdout",
     "output_type": "stream",
     "text": [
      "duration of my class is  4 2025\n"
     ]
    }
   ],
   "source": [
    "shweta.duration(2025)"
   ]
  },
  {
   "cell_type": "code",
   "execution_count": 35,
   "id": "d16b6428",
   "metadata": {},
   "outputs": [
    {
     "name": "stdout",
     "output_type": "stream",
     "text": [
      "current topic discussed in my class is oops\n"
     ]
    }
   ],
   "source": [
    "shweta.crt_topic()"
   ]
  },
  {
   "cell_type": "code",
   "execution_count": 10,
   "id": "10f05b1a",
   "metadata": {},
   "outputs": [
    {
     "data": {
      "text/plain": [
       "2025"
      ]
     },
     "execution_count": 10,
     "metadata": {},
     "output_type": "execute_result"
    }
   ],
   "source": [
    "shweta.current_date"
   ]
  },
  {
   "cell_type": "code",
   "execution_count": 64,
   "id": "d74bcdaf",
   "metadata": {},
   "outputs": [
    {
     "name": "stdout",
     "output_type": "stream",
     "text": [
      "tis is a trial function\n"
     ]
    }
   ],
   "source": [
    "print(shweta)"
   ]
  },
  {
   "cell_type": "code",
   "execution_count": 1,
   "id": "998718f5",
   "metadata": {},
   "outputs": [],
   "source": [
    "import os"
   ]
  },
  {
   "cell_type": "code",
   "execution_count": 2,
   "id": "3a80b117",
   "metadata": {},
   "outputs": [
    {
     "data": {
      "text/plain": [
       "'C:\\\\Users\\\\adity'"
      ]
     },
     "execution_count": 2,
     "metadata": {},
     "output_type": "execute_result"
    }
   ],
   "source": [
    "pwd()"
   ]
  },
  {
   "cell_type": "code",
   "execution_count": 34,
   "id": "79e9b244",
   "metadata": {},
   "outputs": [
    {
     "data": {
      "text/plain": [
       "['.conda',\n",
       " '.condarc',\n",
       " '.continuum',\n",
       " '.ipynb_checkpoints',\n",
       " '.ipython',\n",
       " '.jupyter',\n",
       " '.matplotlib',\n",
       " '.python_history',\n",
       " '.VirtualBox',\n",
       " '3D Objects',\n",
       " 'anaconda3',\n",
       " 'AppData',\n",
       " 'Application Data',\n",
       " 'assignment',\n",
       " 'assignment 1.ipynb',\n",
       " 'assignments',\n",
       " 'assignments and learnings',\n",
       " 'Contacts',\n",
       " 'Cookies',\n",
       " 'desktop.ipynb',\n",
       " 'Documents',\n",
       " 'Downloads',\n",
       " 'Dropbox',\n",
       " 'fact.ipynb',\n",
       " 'Favorites',\n",
       " 'func1.log',\n",
       " 'Links',\n",
       " 'Local Settings',\n",
       " 'Music',\n",
       " 'My Documents',\n",
       " 'NetHood',\n",
       " 'NTUSER.DAT',\n",
       " 'ntuser.dat.LOG1',\n",
       " 'ntuser.dat.LOG2',\n",
       " 'NTUSER.DAT{53b39e88-18c4-11ea-a811-000d3aa4692b}.TM.blf',\n",
       " 'NTUSER.DAT{53b39e88-18c4-11ea-a811-000d3aa4692b}.TMContainer00000000000000000001.regtrans-ms',\n",
       " 'NTUSER.DAT{53b39e88-18c4-11ea-a811-000d3aa4692b}.TMContainer00000000000000000002.regtrans-ms',\n",
       " 'ntuser.ini',\n",
       " 'OneDrive',\n",
       " 'patterns.ipynb',\n",
       " 'PrintHood',\n",
       " 'PycharmProjects',\n",
       " 'Recent',\n",
       " 'Saved Games',\n",
       " 'Searches',\n",
       " 'SendTo',\n",
       " 'Start Menu',\n",
       " 'Templates',\n",
       " 'test1',\n",
       " 'test2.txt',\n",
       " 'test3.txt',\n",
       " 'text3.txt',\n",
       " 'Untitled Folder',\n",
       " 'Untitled.ipynb',\n",
       " 'Untitled1.ipynb',\n",
       " 'Untitled10.ipynb',\n",
       " 'Untitled11.ipynb',\n",
       " 'Untitled12.ipynb',\n",
       " 'Untitled13.ipynb',\n",
       " 'Untitled14.ipynb',\n",
       " 'Untitled15.ipynb',\n",
       " 'Untitled2.ipynb',\n",
       " 'Untitled3.ipynb',\n",
       " 'Untitled4.ipynb',\n",
       " 'Untitled5.ipynb',\n",
       " 'Untitled6.ipynb',\n",
       " 'Untitled7.ipynb',\n",
       " 'Untitled8.ipynb',\n",
       " 'Untitled9.ipynb',\n",
       " 'Videos',\n",
       " 'VirtualBox VMs']"
      ]
     },
     "execution_count": 34,
     "metadata": {},
     "output_type": "execute_result"
    }
   ],
   "source": [
    "os.listdir()"
   ]
  },
  {
   "cell_type": "code",
   "execution_count": 7,
   "id": "6d3dc553",
   "metadata": {},
   "outputs": [],
   "source": [
    "import os\n",
    "import logging as lg\n",
    "\n",
    "class data:\n",
    "    def __init__(self, file_name, file_type, file_size, date):\n",
    "        self.file_name= file_name\n",
    "        self.file_type= file_type\n",
    "        self.file_size= file_size\n",
    "        self.date= date\n",
    "    \n",
    "    def file_open(self):\n",
    "        try :\n",
    "            for i in os.listdir():\n",
    "                if (self.file_name+self.file_type) == i:\n",
    "                    print(\"filealready exists\")\n",
    "                else:\n",
    "                    f=open(self.file_name+self.file_type,'w+')\n",
    "                    f.write(\"this is sample text\")\n",
    "                    f.close()\n",
    "            self.logging(\"creating the file\")\n",
    "        except Exception as e: \n",
    "            self.logging(e)\n",
    "    def file_read(self):\n",
    "        try:\n",
    "            with open( self.file_name+self.file_type, \"r\") as f:\n",
    "                print(f.read())\n",
    "                self.logging(\"reading a file\")\n",
    "                f.close()\n",
    "        except Exception as e:\n",
    "            self.logging(e)\n",
    "    def file_append(self):\n",
    "        f=open( self.file_name+self.file_type, \"a\")\n",
    "        f.write(\"abd devilliers\")\n",
    "        \n",
    "        f.close()\n",
    "    def logging(self, log):\n",
    "        lg.basicConfig(filename=\"log5.txt\",level=lg.INFO,format  = '%(asctime)s %(message)s')\n",
    "        lg.info(log)\n",
    "        "
   ]
  },
  {
   "cell_type": "code",
   "execution_count": null,
   "id": "6f541105",
   "metadata": {},
   "outputs": [],
   "source": []
  },
  {
   "cell_type": "code",
   "execution_count": 9,
   "id": "e5e97ffc",
   "metadata": {},
   "outputs": [],
   "source": [
    "file=data(\"test15\",\".txt\",20, 2021)"
   ]
  },
  {
   "cell_type": "code",
   "execution_count": 10,
   "id": "cceb0148",
   "metadata": {},
   "outputs": [
    {
     "name": "stdout",
     "output_type": "stream",
     "text": [
      "filealready exists\n"
     ]
    }
   ],
   "source": [
    "file.file_open()\n"
   ]
  },
  {
   "cell_type": "code",
   "execution_count": 11,
   "id": "7a152381",
   "metadata": {},
   "outputs": [
    {
     "name": "stdout",
     "output_type": "stream",
     "text": [
      "this is sample text\n"
     ]
    }
   ],
   "source": [
    "file.file_read()"
   ]
  },
  {
   "cell_type": "code",
   "execution_count": 11,
   "id": "d814d3f0",
   "metadata": {},
   "outputs": [],
   "source": [
    "file.file_append()"
   ]
  },
  {
   "cell_type": "code",
   "execution_count": 1,
   "id": "0922f7fe",
   "metadata": {},
   "outputs": [
    {
     "data": {
      "text/plain": [
       "2.0"
      ]
     },
     "execution_count": 1,
     "metadata": {},
     "output_type": "execute_result"
    }
   ],
   "source": [
    "import math\n",
    "math.sqrt(4)"
   ]
  },
  {
   "cell_type": "code",
   "execution_count": 2,
   "id": "15a0c99a",
   "metadata": {},
   "outputs": [
    {
     "data": {
      "text/plain": [
       "3.141592653589793"
      ]
     },
     "execution_count": 2,
     "metadata": {},
     "output_type": "execute_result"
    }
   ],
   "source": [
    "from math import *\n",
    "pi"
   ]
  },
  {
   "cell_type": "code",
   "execution_count": 5,
   "id": "3eea967f",
   "metadata": {},
   "outputs": [],
   "source": [
    "import os\n"
   ]
  },
  {
   "cell_type": "code",
   "execution_count": 6,
   "id": "52036abb",
   "metadata": {},
   "outputs": [
    {
     "data": {
      "text/plain": [
       "'C:\\\\Users\\\\adity'"
      ]
     },
     "execution_count": 6,
     "metadata": {},
     "output_type": "execute_result"
    }
   ],
   "source": [
    "pwd(())"
   ]
  },
  {
   "cell_type": "code",
   "execution_count": 9,
   "id": "6265c507",
   "metadata": {},
   "outputs": [
    {
     "name": "stdout",
     "output_type": "stream",
     "text": [
      "this is my first module\n"
     ]
    }
   ],
   "source": [
    "import test1"
   ]
  },
  {
   "cell_type": "code",
   "execution_count": 10,
   "id": "a8343255",
   "metadata": {},
   "outputs": [],
   "source": [
    "import test1"
   ]
  },
  {
   "cell_type": "code",
   "execution_count": 11,
   "id": "e55d5895",
   "metadata": {},
   "outputs": [],
   "source": [
    "import imp"
   ]
  },
  {
   "cell_type": "code",
   "execution_count": 13,
   "id": "36752493",
   "metadata": {},
   "outputs": [
    {
     "name": "stdout",
     "output_type": "stream",
     "text": [
      "this is my first module\n"
     ]
    },
    {
     "data": {
      "text/plain": [
       "<module 'test1' from 'C:\\\\Users\\\\adity\\\\test1.py'>"
      ]
     },
     "execution_count": 13,
     "metadata": {},
     "output_type": "execute_result"
    }
   ],
   "source": [
    "imp.reload (test1)"
   ]
  },
  {
   "cell_type": "code",
   "execution_count": 14,
   "id": "01aa1779",
   "metadata": {},
   "outputs": [],
   "source": [
    "import addition"
   ]
  },
  {
   "cell_type": "code",
   "execution_count": 15,
   "id": "98331424",
   "metadata": {},
   "outputs": [
    {
     "data": {
      "text/plain": [
       "6"
      ]
     },
     "execution_count": 15,
     "metadata": {},
     "output_type": "execute_result"
    }
   ],
   "source": [
    "addition.adds(2,4)"
   ]
  },
  {
   "cell_type": "code",
   "execution_count": 16,
   "id": "c7d6fffd",
   "metadata": {},
   "outputs": [
    {
     "data": {
      "text/plain": [
       "9"
      ]
     },
     "execution_count": 16,
     "metadata": {},
     "output_type": "execute_result"
    }
   ],
   "source": [
    "addition.adds(5,4)"
   ]
  },
  {
   "cell_type": "code",
   "execution_count": 1,
   "id": "df1c9744",
   "metadata": {},
   "outputs": [],
   "source": [
    "import test2"
   ]
  },
  {
   "cell_type": "code",
   "execution_count": 2,
   "id": "dc336ddb",
   "metadata": {},
   "outputs": [
    {
     "data": {
      "text/plain": [
       "'ml'"
      ]
     },
     "execution_count": 2,
     "metadata": {},
     "output_type": "execute_result"
    }
   ],
   "source": [
    "test2.get_course(1)"
   ]
  },
  {
   "cell_type": "code",
   "execution_count": 3,
   "id": "2834a857",
   "metadata": {},
   "outputs": [],
   "source": [
    "import os\n"
   ]
  },
  {
   "cell_type": "code",
   "execution_count": 4,
   "id": "98370c85",
   "metadata": {},
   "outputs": [],
   "source": [
    "os.mkdir(\"test1\")"
   ]
  },
  {
   "cell_type": "code",
   "execution_count": 5,
   "id": "32f74989",
   "metadata": {},
   "outputs": [
    {
     "data": {
      "text/plain": [
       "'C:\\\\Users\\\\adity'"
      ]
     },
     "execution_count": 5,
     "metadata": {},
     "output_type": "execute_result"
    }
   ],
   "source": [
    "pwd()"
   ]
  },
  {
   "cell_type": "code",
   "execution_count": 6,
   "id": "0513ea42",
   "metadata": {},
   "outputs": [],
   "source": [
    "os.chdir(\"test1\")"
   ]
  },
  {
   "cell_type": "code",
   "execution_count": 7,
   "id": "7bb8f779",
   "metadata": {},
   "outputs": [
    {
     "data": {
      "text/plain": [
       "'C:\\\\Users\\\\adity\\\\test1'"
      ]
     },
     "execution_count": 7,
     "metadata": {},
     "output_type": "execute_result"
    }
   ],
   "source": [
    "pwd()"
   ]
  },
  {
   "cell_type": "code",
   "execution_count": 8,
   "id": "74b00b31",
   "metadata": {},
   "outputs": [],
   "source": [
    "os.mkdir(\"test\")"
   ]
  },
  {
   "cell_type": "code",
   "execution_count": 9,
   "id": "cc9b9a34",
   "metadata": {},
   "outputs": [],
   "source": [
    "os.chdir(\"C:\\\\Users\\\\adity\\\\test1\\\\test\")"
   ]
  },
  {
   "cell_type": "code",
   "execution_count": 11,
   "id": "1f062284",
   "metadata": {},
   "outputs": [
    {
     "data": {
      "text/plain": [
       "'C:\\\\Users\\\\adity\\\\test1\\\\test'"
      ]
     },
     "execution_count": 11,
     "metadata": {},
     "output_type": "execute_result"
    }
   ],
   "source": [
    "os.getcwd()"
   ]
  },
  {
   "cell_type": "code",
   "execution_count": 5,
   "id": "2bdb0c02",
   "metadata": {},
   "outputs": [],
   "source": [
    "def genfib(n):\n",
    "    a=1\n",
    "    b=1\n",
    "    l1=[]\n",
    "    for i in range(0,n):\n",
    "        \n",
    "        l1.append(a)\n",
    "        temp=a+b\n",
    "        a=b\n",
    "        b=temp\n",
    "    return l1"
   ]
  },
  {
   "cell_type": "code",
   "execution_count": 7,
   "id": "e03aafab",
   "metadata": {},
   "outputs": [
    {
     "data": {
      "text/plain": [
       "[1, 1, 2, 3, 5, 8]"
      ]
     },
     "execution_count": 7,
     "metadata": {},
     "output_type": "execute_result"
    }
   ],
   "source": [
    "genfib(6)"
   ]
  },
  {
   "cell_type": "code",
   "execution_count": null,
   "id": "08b2cd64",
   "metadata": {},
   "outputs": [],
   "source": []
  }
 ],
 "metadata": {
  "kernelspec": {
   "display_name": "Python 3 (ipykernel)",
   "language": "python",
   "name": "python3"
  },
  "language_info": {
   "codemirror_mode": {
    "name": "ipython",
    "version": 3
   },
   "file_extension": ".py",
   "mimetype": "text/x-python",
   "name": "python",
   "nbconvert_exporter": "python",
   "pygments_lexer": "ipython3",
   "version": "3.9.7"
  }
 },
 "nbformat": 4,
 "nbformat_minor": 5
}
