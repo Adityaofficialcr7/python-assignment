{
 "cells": [
  {
   "cell_type": "code",
   "execution_count": null,
   "id": "48e825c7",
   "metadata": {},
   "outputs": [],
   "source": [
    "#1 program to find hamming distance between two strings:\n",
    "\n",
    "str1= str(input(\"input string 1\"))\n",
    "str2= str(input(\"input string 2\"))\n",
    "count =0\n",
    "if len(str1)!=len(str2):\n",
    "    print(\" string length mismatch, please enter the similar length strings\")\n",
    "for i in range(0,len(str1)):\n",
    "    if str1[i]!= str2[i]:\n",
    "        count=count+1\n",
    "        \n",
    "print(\"the hamming distance betrween two string is %d\" %count)        "
   ]
  },
  {
   "cell_type": "code",
   "execution_count": 9,
   "id": "86fcbbc3",
   "metadata": {},
   "outputs": [
    {
     "data": {
      "text/plain": [
       "6"
      ]
     },
     "execution_count": 9,
     "metadata": {},
     "output_type": "execute_result"
    }
   ],
   "source": []
  },
  {
   "cell_type": "code",
   "execution_count": 1,
   "id": "eb7eb9be",
   "metadata": {},
   "outputs": [
    {
     "name": "stdout",
     "output_type": "stream",
     "text": [
      "Enter a number: 5\n",
      "The factorial of 5 is 120\n"
     ]
    }
   ],
   "source": [
    "#write a function to generate factorial of a number recursively\n",
    "def recur_factorial(n):  \n",
    "    if n == 1:  \n",
    "        return n  \n",
    "    else:  \n",
    "        return n*recur_factorial(n-1)  \n",
    "# take input from the user  \n",
    "num = int(input(\"Enter a number: \"))  \n",
    "# check is the number is negative  \n",
    "if num < 0:  \n",
    "   print(\"Sorry, factorial does not exist for negative numbers\")  \n",
    "elif num == 0:  \n",
    "   print(\"The factorial of 0 is 1\")  \n",
    "else:  \n",
    "   print(\"The factorial of\",num,\"is\",recur_factorial(num))  \n",
    "    \n",
    "    "
   ]
  },
  {
   "cell_type": "code",
   "execution_count": null,
   "id": "18e2a48c",
   "metadata": {},
   "outputs": [],
   "source": [
    "fact1(5)"
   ]
  },
  {
   "cell_type": "code",
   "execution_count": 1,
   "id": "c4fe79f8",
   "metadata": {},
   "outputs": [],
   "source": [
    "def fact(n):\n",
    "    if n==1:\n",
    "        return n\n",
    "    else:\n",
    "        \n",
    "        return n* fact(n-1)\n",
    "    \n"
   ]
  },
  {
   "cell_type": "code",
   "execution_count": 2,
   "id": "bdac6663",
   "metadata": {},
   "outputs": [
    {
     "data": {
      "text/plain": [
       "120"
      ]
     },
     "execution_count": 2,
     "metadata": {},
     "output_type": "execute_result"
    }
   ],
   "source": [
    "fact(5)"
   ]
  },
  {
   "cell_type": "code",
   "execution_count": 3,
   "id": "84a2a52e",
   "metadata": {},
   "outputs": [],
   "source": [
    "#Question1. Create a function that takes three arguments a, b, c and returns the sum of the\n",
    "#numbers that are evenly divided by c from the range a, b inclusive.\n",
    "\n",
    "def func1(a,b,c):\n",
    "    count=0\n",
    "    for i in range(a,b+1):\n",
    "        if i%c==0:\n",
    "            count=count+1\n",
    "    return count\n"
   ]
  },
  {
   "cell_type": "code",
   "execution_count": 4,
   "id": "c82bfc67",
   "metadata": {},
   "outputs": [
    {
     "data": {
      "text/plain": [
       "7"
      ]
     },
     "execution_count": 4,
     "metadata": {},
     "output_type": "execute_result"
    }
   ],
   "source": [
    "func1(20,40,3)"
   ]
  },
  {
   "cell_type": "code",
   "execution_count": 9,
   "id": "43aca263",
   "metadata": {},
   "outputs": [
    {
     "name": "stdout",
     "output_type": "stream",
     "text": [
      "input the stringliam livingstoien\n",
      "input the character#\n",
      "the original string is liam livingstoien\n"
     ]
    },
    {
     "data": {
      "text/plain": [
       "'the new string after replacement is l##m l#v#ngst###n'"
      ]
     },
     "execution_count": 9,
     "metadata": {},
     "output_type": "execute_result"
    }
   ],
   "source": [
    "#Question3. Create a function that replaces all the vowels in a string with a specified character.\n",
    "def rep(str1, spcl_chr):\n",
    "    vowels=['a','e','i','o','u']\n",
    "    for i in vowels:\n",
    "        str1=str1.replace(i,spcl_chr)\n",
    "    return(f'the new string after replacement is {str1}')    \n",
    "\n",
    "str2= str(input(\"input the string\"))\n",
    "k= input(\"input the character\")\n",
    "print(\"the original string is %s\" %str2)\n",
    "rep(str2,k)\n"
   ]
  },
  {
   "cell_type": "code",
   "execution_count": null,
   "id": "f42e62d9",
   "metadata": {},
   "outputs": [],
   "source": []
  }
 ],
 "metadata": {
  "kernelspec": {
   "display_name": "Python 3 (ipykernel)",
   "language": "python",
   "name": "python3"
  },
  "language_info": {
   "codemirror_mode": {
    "name": "ipython",
    "version": 3
   },
   "file_extension": ".py",
   "mimetype": "text/x-python",
   "name": "python",
   "nbconvert_exporter": "python",
   "pygments_lexer": "ipython3",
   "version": "3.9.7"
  }
 },
 "nbformat": 4,
 "nbformat_minor": 5
}
